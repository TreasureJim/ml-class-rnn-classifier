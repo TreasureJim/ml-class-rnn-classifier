{
 "cells": [
  {
   "cell_type": "code",
   "execution_count": null,
   "metadata": {},
   "outputs": [],
   "source": [
    "import tensorflow as tf\n",
    "from keras.api.models import Sequential\n",
    "from keras.api.layers import GRU, Dense\n",
    "from keras.api.optimizers import Adam\n",
    "\n",
    "def generate_model(num_neurons, window_size):\n",
    "    input_shape = (window_size, 6)  # (time_steps, num_features)\n",
    "\n",
    "    model = Sequential()\n",
    "    model.add(GRU(num_neurons, activation='tanh', return_sequences=True, input_shape=input_shape))\n",
    "    model.add(GRU(num_neurons, activation='tanh'))\n",
    "    model.add(Dense(10, activation='softmax'))  # For a classification task with 10 classes\n",
    "    model.compile(optimizer=Adam(), loss='sparse_categorical_crossentropy', metrics=['accuracy'])\n",
    "    model.summary()\n",
    "\n",
    "    return model"
   ]
  }
 ],
 "metadata": {
  "kernelspec": {
   "display_name": "Python 3",
   "language": "python",
   "name": "python3"
  },
  "language_info": {
   "name": "python",
   "version": "3.12.5"
  }
 },
 "nbformat": 4,
 "nbformat_minor": 2
}
